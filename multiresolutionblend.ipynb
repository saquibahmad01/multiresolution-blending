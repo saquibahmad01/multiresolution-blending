{
  "nbformat": 4,
  "nbformat_minor": 0,
  "metadata": {
    "colab": {
      "name": "multiresolutionblend.ipynb",
      "provenance": []
    },
    "kernelspec": {
      "name": "python3",
      "display_name": "Python 3"
    }
  },
  "cells": [
    {
      "cell_type": "code",
      "metadata": {
        "id": "F-lV5lgcBGwe",
        "colab_type": "code",
        "colab": {}
      },
      "source": [
        "import cv2\n",
        "import matplotlib.pyplot as plt\n",
        "import matplotlib.image as mpimg\n",
        "import numpy as np\n"
      ],
      "execution_count": 0,
      "outputs": []
    },
    {
      "cell_type": "markdown",
      "metadata": {
        "id": "_kmbwOAhBlx3",
        "colab_type": "text"
      },
      "source": [
        "#### Problem 6 a b c d e and f \n",
        "### Reading the image"
      ]
    },
    {
      "cell_type": "code",
      "metadata": {
        "id": "1AjQvAY3BPV8",
        "colab_type": "code",
        "colab": {}
      },
      "source": [
        "\n",
        "A=cv2.imread('apple.jpeg',1)\n",
        "A=cv2.cvtColor(A,cv2.COLOR_BGR2RGB)\n",
        "B=cv2.imread('orange.jpeg',1)\n",
        "B=cv2.cvtColor(B,cv2.COLOR_BGR2RGB)\n",
        "\n",
        "A=A.astype('float64')\n",
        "B=B.astype('float64')"
      ],
      "execution_count": 0,
      "outputs": []
    },
    {
      "cell_type": "markdown",
      "metadata": {
        "id": "2BJBKSfHBs_k",
        "colab_type": "text"
      },
      "source": [
        "##### Performing the blur computations\n"
      ]
    },
    {
      "cell_type": "code",
      "metadata": {
        "id": "OSDZoeI2BUIn",
        "colab_type": "code",
        "colab": {}
      },
      "source": [
        "\n",
        "G = A.copy()\n",
        "gpA = [G]\n",
        "lpA = []"
      ],
      "execution_count": 0,
      "outputs": []
    },
    {
      "cell_type": "markdown",
      "metadata": {
        "id": "lNu4ylW7BzBT",
        "colab_type": "text"
      },
      "source": [
        "### Function that computes the laplacian and guassian pyramid\n"
      ]
    },
    {
      "cell_type": "code",
      "metadata": {
        "id": "-y06I6RHBUFo",
        "colab_type": "code",
        "colab": {}
      },
      "source": [
        "def pyramidDown(G):\n",
        "    gpA=[G]\n",
        "    lpA=[]\n",
        "    for i in range (6):\n",
        "        \n",
        "        G=cv2.GaussianBlur(gpA[i],(5,5),0)\n",
        "        Gdiff=gpA[i]-G\n",
        "        Gdown=G\n",
        "        col=int(np.ceil(Gdown.shape[1]/2))\n",
        "        row=int(np.ceil(Gdown.shape[0]/2))\n",
        "        Gdown=cv2.resize(G,(col,row))\n",
        "        \n",
        "        Goutput = G\n",
        "        Goutput = cv2.normalize(Goutput, None, alpha=0, beta=1, norm_type=cv2.NORM_MINMAX, dtype=cv2.CV_64F)\n",
        "        Gdownop = Gdown\n",
        "        Gdownop = cv2.normalize(Gdownop, None, alpha=0, beta=1, norm_type=cv2.NORM_MINMAX, dtype=cv2.CV_64F)\n",
        "        \n",
        "        plt.imshow(Gdownop)\n",
        "        plt.title('Gaussian Pyramid Image')\n",
        "        plt.show()\n",
        "        Gdiffop = Gdiff\n",
        "        Gdiffop = cv2.normalize(Gdiffop, None, alpha=0, beta=1, norm_type=cv2.NORM_MINMAX, dtype=cv2.CV_64F)\n",
        "        plt.imshow(Gdiffop,'gray')\n",
        "        plt.title('Laplacian Pyramid Image')\n",
        "        plt.show()\n",
        "        gpA.append(Gdown)\n",
        "        lpA.append(Gdiff)\n",
        "\n",
        "    return gpA,lpA"
      ],
      "execution_count": 0,
      "outputs": []
    },
    {
      "cell_type": "markdown",
      "metadata": {
        "id": "lx3HSN3RB7KA",
        "colab_type": "text"
      },
      "source": [
        "### Function that does the multiresolution blend when it gets the guassians and laplacians as arguments"
      ]
    },
    {
      "cell_type": "code",
      "metadata": {
        "id": "5Ti7eFRLBUCw",
        "colab_type": "code",
        "colab": {}
      },
      "source": [
        "def multiresolutionblend(guA,laA,guB,laB,guM,laM):\n",
        "    \n",
        "    LaSoutput=[]\n",
        "    GaSoutput=[]\n",
        "\n",
        "    for i in range(0,len(laA),1):\n",
        "        LaSoutput.append((1-guM[i])*laA[i] + guM[i]*laB[i])\n",
        "        print(len(LaSoutput))\n",
        "        for i in range(6,-1,-1):\n",
        "                if i==6:\n",
        "                    firstoutput = (1-guM[i])*guA[i] + guM[i]*guB[i]\n",
        "                    GaSoutput.append(firstoutput)\n",
        "                    continue\n",
        "        print(len(GaSoutput))\n",
        "        GaSoutput.append(cv2.resize(GaSoutput[len(GaSoutput)-1],(LaSoutput[i].shape[1],LaSoutput[i].shape[0])) + LaSoutput[i])\n",
        "        \n",
        "    return LaSoutput,GaSoutput\n"
      ],
      "execution_count": 0,
      "outputs": []
    },
    {
      "cell_type": "code",
      "metadata": {
        "id": "Dg2-Qp7wBT_s",
        "colab_type": "code",
        "colab": {}
      },
      "source": [
        "guA , laA = pyramidDown(A)\n",
        "\n",
        "guB , laB = pyramidDown(B)"
      ],
      "execution_count": 0,
      "outputs": []
    },
    {
      "cell_type": "markdown",
      "metadata": {
        "id": "33m6GHnuCKKZ",
        "colab_type": "text"
      },
      "source": [
        "### Creating the mask variable to be used in the multiresolution blend"
      ]
    },
    {
      "cell_type": "code",
      "metadata": {
        "id": "4O0hNKS1BT8s",
        "colab_type": "code",
        "colab": {}
      },
      "source": [
        "mask1=np.zeros((300,150,3))\n",
        "mask2=np.ones((300,150,3))\n",
        "mask3 = np.hstack((mask1,mask2))\n",
        "\n",
        "guM , laM = pyramidDown(mask3)\n",
        "print(' Length check ')\n",
        "print(len(guM),len(laA))\n",
        "\n",
        "Lblendop,Gblendop = multiresolutionblend(guA,laA,guB,laB,guM,laM)\n",
        "print(len(Gblendop))\n"
      ],
      "execution_count": 0,
      "outputs": []
    },
    {
      "cell_type": "markdown",
      "metadata": {
        "id": "5UlIzN34CXRw",
        "colab_type": "text"
      },
      "source": [
        "### The following loop prints the orapple at various stages in the pyramid\n",
        "## The final image is the orapple produced"
      ]
    },
    {
      "cell_type": "code",
      "metadata": {
        "id": "2TSnjbi2BT1Y",
        "colab_type": "code",
        "colab": {}
      },
      "source": [
        "for i in range(len(Gblendop)):\n",
        "    plt.imshow(np.uint8(Gblendop[i]))\n",
        "    plt.show()"
      ],
      "execution_count": 0,
      "outputs": []
    },
    {
      "cell_type": "markdown",
      "metadata": {
        "id": "onk3wndzCm62",
        "colab_type": "text"
      },
      "source": [
        "### Direct blending 6 d\n",
        "## This combines the images together directly"
      ]
    },
    {
      "cell_type": "code",
      "metadata": {
        "id": "ldN9ZGryBTwj",
        "colab_type": "code",
        "colab": {}
      },
      "source": [
        "directblend= (1- mask3)*A + mask3*B\n",
        "\n",
        "print (directblend.dtype)\n",
        "plt.imshow(np.uint8(directblend))\n",
        "plt.title('Direct Blend')\n",
        "plt.show()"
      ],
      "execution_count": 0,
      "outputs": []
    },
    {
      "cell_type": "markdown",
      "metadata": {
        "id": "JU8j6vL3Cu3H",
        "colab_type": "text"
      },
      "source": [
        "### Alpha Blending 6 e\n",
        "### This does a guassian blur on the mask first\n",
        "### Then combines the images together"
      ]
    },
    {
      "cell_type": "code",
      "metadata": {
        "id": "8a1Q2JWMBTkt",
        "colab_type": "code",
        "colab": {}
      },
      "source": [
        "alphamask = cv2.GaussianBlur(mask3,(5,5),0)\n",
        "\n",
        "alphablend = (1-alphamask)*A + alphamask*B\n",
        "print (alphablend.dtype)\n",
        "plt.imshow(np.uint8(alphablend))\n",
        "plt.title('Aplha Blend')\n",
        "plt.show()"
      ],
      "execution_count": 0,
      "outputs": []
    }
  ]
}